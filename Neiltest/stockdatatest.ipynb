{
 "cells": [
  {
   "cell_type": "code",
   "execution_count": 6,
   "metadata": {},
   "outputs": [
    {
     "name": "stdout",
     "output_type": "stream",
     "text": [
      "              日期    股票代码    开盘    收盘    最高    最低     成交量         成交额    振幅  \\\n",
      "0     2017-03-01  600744  5.21  5.17  5.23  5.16   53251  27617637.0  1.34   \n",
      "1     2017-03-02  600744  5.18  5.12  5.20  5.12   62439  32172517.0  1.55   \n",
      "2     2017-03-03  600744  5.12  5.11  5.15  5.08   57487  29376171.0  1.37   \n",
      "3     2017-03-06  600744  5.11  5.19  5.20  5.09   69253  35801047.0  2.15   \n",
      "4     2017-03-07  600744  5.19  5.22  5.23  5.16   70536  36746817.0  1.35   \n",
      "...          ...     ...   ...   ...   ...   ...     ...         ...   ...   \n",
      "1829  2024-09-04  600744  2.82  2.84  2.86  2.82   69470  19719188.0  1.40   \n",
      "1830  2024-09-05  600744  2.83  2.85  2.86  2.83   66133  18807485.0  1.06   \n",
      "1831  2024-09-06  600744  2.85  2.82  2.86  2.82   63367  17950979.0  1.40   \n",
      "1832  2024-09-09  600744  2.81  2.76  2.82  2.75  123931  34320877.0  2.48   \n",
      "1833  2024-09-10  600744  2.76  2.78  2.78  2.72  104206  28706747.0  2.17   \n",
      "\n",
      "       涨跌幅   涨跌额   换手率  \n",
      "0    -0.96 -0.05  0.64  \n",
      "1    -0.97 -0.05  0.75  \n",
      "2    -0.20 -0.01  0.69  \n",
      "3     1.57  0.08  0.84  \n",
      "4     0.58  0.03  0.85  \n",
      "...    ...   ...   ...  \n",
      "1829 -0.35 -0.01  0.34  \n",
      "1830  0.35  0.01  0.33  \n",
      "1831 -1.05 -0.03  0.31  \n",
      "1832 -2.13 -0.06  0.61  \n",
      "1833  0.72  0.02  0.51  \n",
      "\n",
      "[1834 rows x 12 columns]\n"
     ]
    }
   ],
   "source": [
    "import akshare as ak\n",
    "\n",
    "stock_zh_a_hist_df = ak.stock_zh_a_hist(symbol=\"600744\", period=\"daily\", start_date=\"20170301\", end_date='20240910', adjust=\"\")\n",
    "print(stock_zh_a_hist_df)"
   ]
  },
  {
   "cell_type": "code",
   "execution_count": 7,
   "metadata": {},
   "outputs": [
    {
     "name": "stdout",
     "output_type": "stream",
     "text": [
      "0       5.17\n",
      "1       5.12\n",
      "2       5.11\n",
      "3       5.19\n",
      "4       5.22\n",
      "        ... \n",
      "1829    2.84\n",
      "1830    2.85\n",
      "1831    2.82\n",
      "1832    2.76\n",
      "1833    2.78\n",
      "Name: 收盘, Length: 1834, dtype: float64\n"
     ]
    }
   ],
   "source": [
    "price=stock_zh_a_hist_df.loc[:,'收盘']\n",
    "\n",
    "print(price)"
   ]
  },
  {
   "cell_type": "code",
   "execution_count": 8,
   "metadata": {},
   "outputs": [],
   "source": [
    "import vectorbt as vbt"
   ]
  },
  {
   "cell_type": "code",
   "execution_count": 11,
   "metadata": {},
   "outputs": [],
   "source": [
    "import vectorbt as vbt\n",
    "import numpy as np\n",
    "fast_ma = vbt.MA.run(price, 10)\n",
    "slow_ma = vbt.MA.run(price, 50)\n",
    "entries = fast_ma.ma_crossed_above(slow_ma)\n",
    "exits = fast_ma.ma_crossed_below(slow_ma)\n",
    "\n",
    "pf = vbt.Portfolio.from_signals(price, entries, exits, init_cash=100)\n",
    "pf.total_profit()\n",
    "\n",
    "n = np.random.randint(10, 101, size=1000).tolist()\n",
    "pf = vbt.Portfolio.from_random_signals(price, n=n, init_cash=100, seed=42)\n",
    "\n"
   ]
  },
  {
   "cell_type": "code",
   "execution_count": 12,
   "metadata": {},
   "outputs": [
    {
     "ename": "AttributeError",
     "evalue": "'numpy.float64' object has no attribute 'unstack'",
     "output_type": "error",
     "traceback": [
      "\u001b[1;31m---------------------------------------------------------------------------\u001b[0m",
      "\u001b[1;31mAttributeError\u001b[0m                            Traceback (most recent call last)",
      "Cell \u001b[1;32mIn[12], line 2\u001b[0m\n\u001b[0;32m      1\u001b[0m mean_expectancy \u001b[38;5;241m=\u001b[39m pf\u001b[38;5;241m.\u001b[39mtrades\u001b[38;5;241m.\u001b[39mexpectancy()\u001b[38;5;241m.\u001b[39mmean()\n\u001b[1;32m----> 2\u001b[0m fig \u001b[38;5;241m=\u001b[39m mean_expectancy\u001b[38;5;241m.\u001b[39munstack()\u001b[38;5;241m.\u001b[39mvbt\u001b[38;5;241m.\u001b[39mscatterplot(xaxis_title\u001b[38;5;241m=\u001b[39m\u001b[38;5;124m'\u001b[39m\u001b[38;5;124mrandnx_n\u001b[39m\u001b[38;5;124m'\u001b[39m, yaxis_title\u001b[38;5;241m=\u001b[39m\u001b[38;5;124m'\u001b[39m\u001b[38;5;124mmean_expectancy\u001b[39m\u001b[38;5;124m'\u001b[39m)\n\u001b[0;32m      3\u001b[0m fig\u001b[38;5;241m.\u001b[39mshow()\n",
      "\u001b[1;31mAttributeError\u001b[0m: 'numpy.float64' object has no attribute 'unstack'"
     ]
    }
   ],
   "source": [
    "mean_expectancy = pf.trades.expectancy().groupby(['randnx_n', 'symbol']).mean()\n",
    "fig = mean_expectancy.unstack().vbt.scatterplot(xaxis_title='randnx_n', yaxis_title='mean_expectancy')\n",
    "fig.show()"
   ]
  },
  {
   "cell_type": "code",
   "execution_count": 1,
   "metadata": {},
   "outputs": [
    {
     "name": "stderr",
     "output_type": "stream",
     "text": [
      "Failed to get ticker 'BTC-USD' reason: Expecting value: line 1 column 1 (char 0)\n",
      "$BTC-USD: possibly delisted; no timezone found\n"
     ]
    },
    {
     "data": {
      "text/plain": [
       "0.0"
      ]
     },
     "execution_count": 1,
     "metadata": {},
     "output_type": "execute_result"
    }
   ],
   "source": [
    "import vectorbt as vbt\n",
    "\n",
    "price = vbt.YFData.download('BTC-USD').get('Close')\n",
    "\n",
    "pf = vbt.Portfolio.from_holding(price, init_cash=100)\n",
    "pf.total_profit()"
   ]
  },
  {
   "cell_type": "code",
   "execution_count": null,
   "metadata": {},
   "outputs": [],
   "source": [
    "import numpy as np\n",
    "\n",
    "symbols = [\"BTC-USD\", \"ETH-USD\"]\n",
    "price = vbt.YFData.download(symbols, missing_index='drop').get('Close')\n",
    "\n",
    "n = np.random.randint(10, 101, size=1000).tolist()\n",
    "pf = vbt.Portfolio.from_random_signals(price, n=n, init_cash=100, seed=42)\n",
    "\n",
    "mean_expectancy = pf.trades.expectancy().groupby(['randnx_n', 'symbol']).mean()\n",
    "fig = mean_expectancy.unstack().vbt.scatterplot(xaxis_title='randnx_n', yaxis_title='mean_expectancy')\n",
    "fig.show()"
   ]
  }
 ],
 "metadata": {
  "kernelspec": {
   "display_name": "Python 3",
   "language": "python",
   "name": "python3"
  },
  "language_info": {
   "codemirror_mode": {
    "name": "ipython",
    "version": 3
   },
   "file_extension": ".py",
   "mimetype": "text/x-python",
   "name": "python",
   "nbconvert_exporter": "python",
   "pygments_lexer": "ipython3",
   "version": "3.12.3"
  }
 },
 "nbformat": 4,
 "nbformat_minor": 2
}
