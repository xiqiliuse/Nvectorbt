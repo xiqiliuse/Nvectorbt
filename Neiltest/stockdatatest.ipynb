{
 "cells": [
  {
   "cell_type": "code",
   "execution_count": 4,
   "metadata": {},
   "outputs": [
    {
     "name": "stdout",
     "output_type": "stream",
     "text": [
      "              日期    股票代码    开盘    收盘    最高    最低     成交量         成交额    振幅  \\\n",
      "0     2017-03-01  600744  5.21  5.17  5.23  5.16   53251  27617637.0  1.34   \n",
      "1     2017-03-02  600744  5.18  5.12  5.20  5.12   62439  32172517.0  1.55   \n",
      "2     2017-03-03  600744  5.12  5.11  5.15  5.08   57487  29376171.0  1.37   \n",
      "3     2017-03-06  600744  5.11  5.19  5.20  5.09   69253  35801047.0  2.15   \n",
      "4     2017-03-07  600744  5.19  5.22  5.23  5.16   70536  36746817.0  1.35   \n",
      "...          ...     ...   ...   ...   ...   ...     ...         ...   ...   \n",
      "1829  2024-09-04  600744  2.82  2.84  2.86  2.82   69470  19719188.0  1.40   \n",
      "1830  2024-09-05  600744  2.83  2.85  2.86  2.83   66133  18807485.0  1.06   \n",
      "1831  2024-09-06  600744  2.85  2.82  2.86  2.82   63367  17950979.0  1.40   \n",
      "1832  2024-09-09  600744  2.81  2.76  2.82  2.75  123931  34320877.0  2.48   \n",
      "1833  2024-09-10  600744  2.76  2.78  2.78  2.72  104206  28706747.0  2.17   \n",
      "\n",
      "       涨跌幅   涨跌额   换手率  \n",
      "0    -0.96 -0.05  0.64  \n",
      "1    -0.97 -0.05  0.75  \n",
      "2    -0.20 -0.01  0.69  \n",
      "3     1.57  0.08  0.84  \n",
      "4     0.58  0.03  0.85  \n",
      "...    ...   ...   ...  \n",
      "1829 -0.35 -0.01  0.34  \n",
      "1830  0.35  0.01  0.33  \n",
      "1831 -1.05 -0.03  0.31  \n",
      "1832 -2.13 -0.06  0.61  \n",
      "1833  0.72  0.02  0.51  \n",
      "\n",
      "[1834 rows x 12 columns]\n"
     ]
    }
   ],
   "source": [
    "import akshare as ak\n",
    "\n",
    "stock_zh_a_hist_df = ak.stock_zh_a_hist(symbol=\"600744\", period=\"daily\", start_date=\"20170301\", end_date='20240910', adjust=\"\")\n",
    "print(stock_zh_a_hist_df)"
   ]
  },
  {
   "cell_type": "code",
   "execution_count": 5,
   "metadata": {},
   "outputs": [
    {
     "name": "stdout",
     "output_type": "stream",
     "text": [
      "0       5.17\n",
      "1       5.12\n",
      "2       5.11\n",
      "3       5.19\n",
      "4       5.22\n",
      "        ... \n",
      "1829    2.84\n",
      "1830    2.85\n",
      "1831    2.82\n",
      "1832    2.76\n",
      "1833    2.78\n",
      "Name: 收盘, Length: 1834, dtype: float64\n"
     ]
    }
   ],
   "source": [
    "price=stock_zh_a_hist_df.loc[:,'收盘']\n",
    "\n",
    "print(price)"
   ]
  },
  {
   "cell_type": "code",
   "execution_count": 6,
   "metadata": {},
   "outputs": [],
   "source": [
    "import vectorbt as vbt"
   ]
  },
  {
   "cell_type": "code",
   "execution_count": 7,
   "metadata": {},
   "outputs": [],
   "source": [
    "import vectorbt as vbt\n",
    "import numpy as np\n",
    "fast_ma = vbt.MA.run(price, 10)\n",
    "slow_ma = vbt.MA.run(price, 50)\n",
    "entries = fast_ma.ma_crossed_above(slow_ma)\n",
    "exits = fast_ma.ma_crossed_below(slow_ma)\n",
    "\n",
    "pf = vbt.Portfolio.from_signals(price, entries, exits, init_cash=100)\n",
    "pf.total_profit()\n",
    "\n",
    "n = np.random.randint(10, 101, size=1000).tolist()\n",
    "pf = vbt.Portfolio.from_random_signals(price, n=n, init_cash=100, seed=42)\n",
    "\n"
   ]
  },
  {
   "cell_type": "code",
   "execution_count": 9,
   "metadata": {},
   "outputs": [
    {
     "ename": "NameError",
     "evalue": "name 'product' is not defined",
     "output_type": "error",
     "traceback": [
      "\u001b[1;31m---------------------------------------------------------------------------\u001b[0m",
      "\u001b[1;31mNameError\u001b[0m                                 Traceback (most recent call last)",
      "Cell \u001b[1;32mIn[9], line 6\u001b[0m\n\u001b[0;32m      1\u001b[0m price, _ \u001b[38;5;241m=\u001b[39m price\u001b[38;5;241m.\u001b[39mvbt\u001b[38;5;241m.\u001b[39mrange_split(n\u001b[38;5;241m=\u001b[39m\u001b[38;5;241m3\u001b[39m)\n\u001b[0;32m      3\u001b[0m \u001b[38;5;66;03m# Define hyper-parameter space\u001b[39;00m\n\u001b[0;32m      4\u001b[0m \u001b[38;5;66;03m# 49 fast x 49 slow x 19 signal\u001b[39;00m\n\u001b[0;32m      5\u001b[0m fast_windows, slow_windows, signal_windows \u001b[38;5;241m=\u001b[39m vbt\u001b[38;5;241m.\u001b[39mutils\u001b[38;5;241m.\u001b[39mparams\u001b[38;5;241m.\u001b[39mcreate_param_combs(\n\u001b[1;32m----> 6\u001b[0m     (product, (combinations, np\u001b[38;5;241m.\u001b[39marange(\u001b[38;5;241m2\u001b[39m, \u001b[38;5;241m51\u001b[39m, \u001b[38;5;241m1\u001b[39m), \u001b[38;5;241m2\u001b[39m), np\u001b[38;5;241m.\u001b[39marange(\u001b[38;5;241m2\u001b[39m, \u001b[38;5;241m21\u001b[39m, \u001b[38;5;241m1\u001b[39m)))\n\u001b[0;32m      8\u001b[0m \u001b[38;5;66;03m# Run MACD indicator\u001b[39;00m\n\u001b[0;32m      9\u001b[0m macd_ind \u001b[38;5;241m=\u001b[39m vbt\u001b[38;5;241m.\u001b[39mMACD\u001b[38;5;241m.\u001b[39mrun(\n\u001b[0;32m     10\u001b[0m     price,\n\u001b[0;32m     11\u001b[0m     fast_window\u001b[38;5;241m=\u001b[39mfast_windows,\n\u001b[0;32m     12\u001b[0m     slow_window\u001b[38;5;241m=\u001b[39mslow_windows,\n\u001b[0;32m     13\u001b[0m     signal_window\u001b[38;5;241m=\u001b[39msignal_windows\n\u001b[0;32m     14\u001b[0m )\n",
      "\u001b[1;31mNameError\u001b[0m: name 'product' is not defined"
     ]
    }
   ],
   "source": [
    "price, _ = price.vbt.range_split(n=3)\n",
    "\n",
    "# Define hyper-parameter space\n",
    "# 49 fast x 49 slow x 19 signal\n",
    "fast_windows, slow_windows, signal_windows = vbt.utils.params.create_param_combs((product, (combinations, np.arange(2, 51, 1), 2), np.arange(2, 21, 1)))\n",
    "\n",
    "# Run MACD indicator\n",
    "macd_ind = vbt.MACD.run(\n",
    "    price,\n",
    "    fast_window=fast_windows,\n",
    "    slow_window=slow_windows,\n",
    "    signal_window=signal_windows\n",
    ")\n",
    "\n",
    "# Long when MACD is above zero AND signal\n",
    "entries = macd_ind.macd_above(0) & macd_ind.macd_above(macd_ind.signal)\n",
    "\n",
    "# Short when MACD is below zero OR signal\n",
    "exits = macd_ind.macd_below(0) | macd_ind.macd_below(macd_ind.signal)\n",
    "\n",
    "# Build portfolio\n",
    "pf = vbt.Portfolio.from_signals(\n",
    "    price.vbt.tile(len(fast_windows)), entries, exits, fees=0.001, freq='1D')\n",
    "\n",
    "# Draw all window combinations as a 3D volume\n",
    "fig = pf.total_return().vbt.volume(\n",
    "    x_level='macd_fast_window',\n",
    "    y_level='macd_slow_window',\n",
    "    z_level='macd_signal_window',\n",
    "    slider_level='split_idx',\n",
    "    trace_kwargs=dict(\n",
    "        colorbar=dict(\n",
    "            title='Total return', \n",
    "            tickformat='%'\n",
    "        )\n",
    "    )\n",
    ")\n",
    "fig.show()"
   ]
  }
 ],
 "metadata": {
  "kernelspec": {
   "display_name": "Python 3",
   "language": "python",
   "name": "python3"
  },
  "language_info": {
   "codemirror_mode": {
    "name": "ipython",
    "version": 3
   },
   "file_extension": ".py",
   "mimetype": "text/x-python",
   "name": "python",
   "nbconvert_exporter": "python",
   "pygments_lexer": "ipython3",
   "version": "3.12.3"
  }
 },
 "nbformat": 4,
 "nbformat_minor": 2
}
